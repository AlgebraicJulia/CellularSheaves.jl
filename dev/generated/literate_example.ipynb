{
 "cells": [
  {
   "cell_type": "markdown",
   "source": [
    "# Code Example\n",
    "\n",
    "This is an example of adding a code example compiled with Literate.jl in the docs.\n",
    "\n",
    "First we want to load our package with `using`"
   ],
   "metadata": {}
  },
  {
   "outputs": [],
   "cell_type": "code",
   "source": [
    "using CellularSheaves\n",
    "using LinearAlgebra"
   ],
   "metadata": {},
   "execution_count": 1
  },
  {
   "cell_type": "markdown",
   "source": [
    "## Using the Package\n",
    "Here is a simple example of creating a sheaf using the `@cellular_sheaf` macro."
   ],
   "metadata": {}
  },
  {
   "outputs": [
    {
     "output_type": "execute_result",
     "data": {
      "text/plain": "A network sheaf with 3 vertex stalks and 3 edge stalks.\n"
     },
     "metadata": {},
     "execution_count": 2
    }
   ],
   "cell_type": "code",
   "source": [
    "A = [1.0 0.0 1.0 0.0]\n",
    "B = [1.0 0.0 0.0 1.0]\n",
    "C = [1.0 0.0 0.0 0.0]\n",
    "\n",
    "sheaf = @cellular_sheaf A, B, C begin\n",
    "    x::Stalk{4}, y::Stalk{4}, z::Stalk{4}\n",
    "\n",
    "    A(x) == B(y)\n",
    "    A(x) == C(z)\n",
    "    B(y) == C(z)\n",
    "\n",
    "end"
   ],
   "metadata": {},
   "execution_count": 2
  },
  {
   "cell_type": "markdown",
   "source": [
    "Let's compute a global section of this sheaf.\n",
    "We start with a random 0-cochain:"
   ],
   "metadata": {}
  },
  {
   "outputs": [
    {
     "output_type": "execute_result",
     "data": {
      "text/plain": "3-blocked 12-element BlockVector{Float64}:\n 0.20597218383089091\n 0.25509186457288946\n 0.224459182482766  \n 0.47508594354261524\n ───────────────────\n 0.1817543922758074 \n 0.8269496789632016 \n 0.498923872878124  \n 0.24867697403784964\n ───────────────────\n 0.430431366313657  \n 0.33180462963383706\n 0.06788327374384762\n 0.8670005949383776 "
     },
     "metadata": {},
     "execution_count": 3
    }
   ],
   "cell_type": "code",
   "source": [
    "x0 = rand(sum(vertex_stalks(sheaf)))\n",
    "\n",
    "global_section = nearest_global_section(sheaf, x0)"
   ],
   "metadata": {},
   "execution_count": 3
  },
  {
   "cell_type": "markdown",
   "source": [
    "Now we can check that this is indeed a global section by\n",
    "verifying that the coboundary map applied to it is zero."
   ],
   "metadata": {}
  },
  {
   "outputs": [
    {
     "output_type": "execute_result",
     "data": {
      "text/plain": "1.5700924586837752e-16"
     },
     "metadata": {},
     "execution_count": 4
    }
   ],
   "cell_type": "code",
   "source": [
    "d = coboundary_map(sheaf)\n",
    "\n",
    "norm(d * global_section)"
   ],
   "metadata": {},
   "execution_count": 4
  }
 ],
 "nbformat_minor": 3,
 "metadata": {
  "language_info": {
   "file_extension": ".jl",
   "mimetype": "application/julia",
   "name": "julia",
   "version": "1.11.7"
  },
  "kernelspec": {
   "name": "julia-1.11",
   "display_name": "Julia 1.11.7",
   "language": "julia"
  }
 },
 "nbformat": 4
}